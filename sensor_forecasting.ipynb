{
  "cells": [
    {
      "cell_type": "markdown",
      "metadata": {
        "id": "un-v-ByeMEJY"
      },
      "source": [
        "# <p><center style=\"background: linear-gradient(to right, red, yellow);-webkit-background-clip: text; color: transparent;font-family: Gabriola;color: navy;font-size: 210%;text-align: center;border-radius: 10px 70px\">   Temperature measurement with iot sensors </center></p>\n"
      ]
    },
    {
      "cell_type": "markdown",
      "metadata": {
        "id": "I5CuJ5DBMEJY"
      },
      "source": [
        "<div style = 'border : 3px solid non; background-color:#F0FFFF ; ;padding:10px'>\n",
        "\n",
        "<a class=\"anchor\" id=\"about_dataset\"></a>\n",
        "\n",
        "<p style=\"font-family:Georgia;padding:20px;line-height:25px;\";><font style=\"font-family:Georgia; font-size:210%;\"> 👁‍🗨About Dataset </font><br>\n",
        "    \n",
        "* **1. What is the dataset about?**\n",
        "   <br>\n",
        "    \n",
        "  - This data is related to ingland weather information, which includes the date of registration and weather conditions based on cloud cover and type of rainfall, temperature, wind speed, pressure and humidity."
      ]
    },
    {
      "cell_type": "markdown",
      "metadata": {
        "id": "ijKNHhs8MEJY"
      },
      "source": [
        "<table align=\"left\" rules=\"all\"  style=\"width: 80%;font-family:Georgia;\">\n",
        "\n",
        "  <thead>\n",
        "    <tr style=\"background: linear-gradient(to right, red, yellow);-webkit-background-clip: text; color: transparent;border: 3px solid black;\">\n",
        "      <th style=\"width:35%; text-align:center; font-weight: bold;color:#000080; font-size: 18px;\">Variable Name</th>\n",
        "      <th style=\"text-align:center; font-weight: bold;color:#000080; font-size: 18px;\">Description</th>\n",
        "    </tr>\n",
        "  </thead>\n",
        "  <tbody>\n",
        "    <tr style=\"background-color: white;border: 1px solid black;border-color:grey \">\n",
        "      <td style=\"text-align:left; font-size: 16px;color:#000080\">Formatted Date</td>\n",
        "      <td style=\"text-align:left; font-size: 16px;color:#000080\"> Date and time of information recorded</td>\n",
        "    </tr >\n",
        "    <tr style=\"background-color: white;border: 1px solid black;border-color:grey\">\n",
        "      <td style=\"text-align:left;font-size: 16px;color:#000080\" >Summary</td>\n",
        "      <td style=\"text-align:left;font-size: 16px;color:#000080\">The state of the sky in terms of cloud cover</td>\n",
        "    </tr>\n",
        "    <tr style=\"background-color: white;border: 1px solid black;border-color:grey\">\n",
        "      <td style=\"text-align:left; font-size: 16px;color:#000080 \">Precip Type</td>\n",
        "      <td style=\"text-align:left;font-size: 16px;color:#000080\">Type of precipitation  </td>\n",
        "    </tr>\n",
        "    <tr style=\"background-color: white;border: 1px solid black;border-color:grey\">\n",
        "      <td style=\"text-align:left;font-size: 16px;color:#000080 \">Temperature (C)</td>\n",
        "      <td style=\"text-align:left;font-size: 16px;color:#000080\">Temperature</td>\n",
        "    </tr>\n",
        "    <tr style=\"background-color: white;border: 1px solid black;border-color:grey\">\n",
        "      <td style=\"text-align:left;font-size: 16px;color:#000080\">Wind Speed (km/h)</td>\n",
        "      <td style=\"text-align:left;font-size: 16px;color:#000080\">Wind speed</td>\n",
        "    </tr>\n",
        "    <tr style=\"background-color: white;border: 1px solid black;border-color:grey\">\n",
        "      <td style=\"text-align:left;font-size: 16px;color:#000080 \">Pressure (millibars)</td>\n",
        "      <td style=\"text-align:left;font-size: 16px;color:#000080\">Air pressure in kilopascals</td>\n",
        "    </tr>\n",
        "    <tr style=\"background-color: white;border: 1px solid black;border-color:grey\">\n",
        "      <td style=\"text-align:left;font-size: 16px;color:#000080 \">Humidity</td>\n",
        "      <td style=\"text-align:left;font-size: 16px;color:#000080\" >Air humidity</td>\n",
        "    </tr>\n",
        "   \n",
        "  </tbody>\n",
        "</table>"
      ]
    },
    {
      "cell_type": "code",
      "execution_count": null,
      "metadata": {
        "id": "LGjAPB5tMEJZ"
      },
      "outputs": [],
      "source": [
        "import numpy as np\n",
        "import pandas as pd\n",
        "import matplotlib.pyplot as plt"
      ]
    },
    {
      "cell_type": "code",
      "execution_count": null,
      "metadata": {
        "id": "aoZaM88FMEJZ"
      },
      "outputs": [],
      "source": [
        "import seaborn as sns"
      ]
    },
    {
      "cell_type": "code",
      "execution_count": null,
      "metadata": {
        "id": "b6goIbNhMEJZ"
      },
      "outputs": [],
      "source": [
        "import plotly.express as px"
      ]
    },
    {
      "cell_type": "code",
      "execution_count": null,
      "metadata": {
        "id": "DvhRibiqMEJZ"
      },
      "outputs": [],
      "source": [
        "import warnings\n",
        "warnings.simplefilter(action='ignore')"
      ]
    },
    {
      "cell_type": "code",
      "execution_count": null,
      "metadata": {
        "id": "KrslU6uHMEJa"
      },
      "outputs": [],
      "source": [
        "data=pd.read_csv('IOT-temp.csv')"
      ]
    },
    {
      "cell_type": "code",
      "execution_count": null,
      "metadata": {
        "id": "HFJNhhOiMEJa"
      },
      "outputs": [],
      "source": [
        "df=pd.DataFrame(data,columns=['room_id/id', 'noted_date', 'temp', 'out/in'])\n",
        "df"
      ]
    },
    {
      "cell_type": "code",
      "execution_count": null,
      "metadata": {
        "id": "bxIz21C2MEJa"
      },
      "outputs": [],
      "source": [
        "date=[]\n",
        "for i in df['noted_date']:\n",
        "    number=i.split('-')\n",
        "    number1=number[2].split(' ')\n",
        "    dat=f'{int(number[1])}/{int(number[1])}/{int(number1[0])}'\n",
        "    date.append(dat)"
      ]
    },
    {
      "cell_type": "code",
      "execution_count": null,
      "metadata": {
        "id": "tp8T9CK1MEJa"
      },
      "outputs": [],
      "source": [
        "df5=df.copy()"
      ]
    },
    {
      "cell_type": "code",
      "execution_count": null,
      "metadata": {
        "id": "QfzF3jHPMEJa"
      },
      "outputs": [],
      "source": [
        "df5['date']=date"
      ]
    },
    {
      "cell_type": "code",
      "execution_count": null,
      "metadata": {
        "id": "hvDm6tA9MEJa"
      },
      "outputs": [],
      "source": [
        "df4=pd.DataFrame(df5,columns=['date','temp','out/in'])"
      ]
    },
    {
      "cell_type": "code",
      "execution_count": null,
      "metadata": {
        "id": "STDhRaGqMEJa"
      },
      "outputs": [],
      "source": [
        "df4"
      ]
    },
    {
      "cell_type": "code",
      "execution_count": null,
      "metadata": {
        "id": "i5dFCTYLMEJa"
      },
      "outputs": [],
      "source": [
        "df.describe()"
      ]
    },
    {
      "cell_type": "code",
      "execution_count": null,
      "metadata": {
        "id": "ye926xUvMEJa"
      },
      "outputs": [],
      "source": [
        "df2=df.copy()"
      ]
    },
    {
      "cell_type": "code",
      "execution_count": null,
      "metadata": {
        "id": "CVlnFvoJMEJa"
      },
      "outputs": [],
      "source": [
        "df2['temp']=df2['temp'].astype(str)"
      ]
    },
    {
      "cell_type": "code",
      "execution_count": null,
      "metadata": {
        "id": "mCYkY2nHMEJa"
      },
      "outputs": [],
      "source": [
        "df2.describe()"
      ]
    },
    {
      "cell_type": "code",
      "execution_count": null,
      "metadata": {
        "id": "QBPB6zocMEJa"
      },
      "outputs": [],
      "source": [
        "df3=df2.dropna()\n",
        "df3"
      ]
    },
    {
      "cell_type": "code",
      "execution_count": null,
      "metadata": {
        "id": "cCI0wQcUMEJa"
      },
      "outputs": [],
      "source": [
        "df3['temp']=df3['temp'].astype(float).astype(int)"
      ]
    },
    {
      "cell_type": "code",
      "execution_count": null,
      "metadata": {
        "id": "tpElqE-3MEJa"
      },
      "outputs": [],
      "source": [
        "df8=df.copy()"
      ]
    },
    {
      "cell_type": "code",
      "execution_count": null,
      "metadata": {
        "id": "_B7FConLMEJa"
      },
      "outputs": [],
      "source": [
        "#missing value\n",
        "len(df.index)-df8.count()"
      ]
    },
    {
      "cell_type": "code",
      "execution_count": null,
      "metadata": {
        "id": "7W9hFcwVMEJa"
      },
      "outputs": [],
      "source": [
        "df3['temp'].max()"
      ]
    },
    {
      "cell_type": "code",
      "execution_count": null,
      "metadata": {
        "id": "Uvm0S0ruMEJa"
      },
      "outputs": [],
      "source": [
        "df3['temp'].min()"
      ]
    },
    {
      "cell_type": "code",
      "execution_count": null,
      "metadata": {
        "id": "bTUiTcp9MEJb"
      },
      "outputs": [],
      "source": [
        "df3['temp'].mean()"
      ]
    },
    {
      "cell_type": "markdown",
      "metadata": {
        "id": "74ace8f3"
      },
      "source": [
        "```\n",
        "💡 Result\n",
        "\n",
        "- We have about 97606 data\n",
        "\n",
        "-  12-09-2018 03:09 at this time and date we recorded the most data.\n",
        "\n",
        "-  Temperature 39 degrees, we have 10203 data\n",
        "\n",
        "- The highest recorded temperature is 51 degrees on 30-09-2018 17:29 and 30-09-2018 17:13. The lowest temperature is 21 degrees on 03-12-2018 11:02.\n",
        "\n",
        "- 77261 data have been recorded in the out sensor\n",
        "\n",
        "- The lowest temperature is 21 degrees and the highest temperature is 51 degrees\n",
        "```"
      ]
    },
    {
      "cell_type": "markdown",
      "metadata": {
        "id": "16QCSGY-MEJb"
      },
      "source": [
        "<a class=\"anchor\" id=\"Separate\"></a>\n",
        "\n",
        "\n",
        "# <p style=\"background-color:#ffffff;font-family:Gabriola;color:#000080;font-size:120%;text-align:left;border-radius:10px ; padding:10px;\"> 🌞 Measurement based on plot </p>"
      ]
    },
    {
      "cell_type": "code",
      "execution_count": null,
      "metadata": {
        "id": "WxLNe_PNMEJb"
      },
      "outputs": [],
      "source": [
        "df3['out/in'].value_counts()"
      ]
    },
    {
      "cell_type": "code",
      "execution_count": null,
      "metadata": {
        "id": "-L0gxvG7MEJb"
      },
      "outputs": [],
      "source": [
        "df3[df3['temp']==(df3['temp'].max())]['noted_date']"
      ]
    },
    {
      "cell_type": "code",
      "execution_count": null,
      "metadata": {
        "id": "0VWViRBWMEJb"
      },
      "outputs": [],
      "source": [
        "df3[df3['temp']==(df3['temp'].min())]['noted_date']"
      ]
    },
    {
      "cell_type": "code",
      "execution_count": null,
      "metadata": {
        "id": "dNTRNcJIMEJb"
      },
      "outputs": [],
      "source": [
        "df3[df3['temp']==(int(df3['temp'].mean()))]['noted_date']"
      ]
    },
    {
      "cell_type": "code",
      "execution_count": null,
      "metadata": {
        "id": "LBTE-PatMEJb"
      },
      "outputs": [],
      "source": [
        "df3[df3['temp']==25]['noted_date']"
      ]
    },
    {
      "cell_type": "markdown",
      "metadata": {
        "id": "5y_Y_NROMEJb"
      },
      "source": [
        "<a class=\"anchor\" id=\"Separate\"></a>\n",
        "\n",
        "\n",
        "# <p style=\"background-color:#ffffff;font-family:Gabriola;color:#000080;font-size:100%;text-align:left;border-radius:10px ; padding:10px;\">  📈 Temperature Histogram  </p>"
      ]
    },
    {
      "cell_type": "code",
      "execution_count": null,
      "metadata": {
        "id": "Phb8b4rYMEJb"
      },
      "outputs": [],
      "source": [
        "sns.histplot(df['temp'], bins= 20, color=\"blue\", kde = True)\n",
        "\n",
        "plt.title('Temputure Histogram')\n",
        "plt.show()"
      ]
    },
    {
      "cell_type": "markdown",
      "metadata": {
        "id": "zHBzakrhMEJb"
      },
      "source": [
        "<a class=\"anchor\" id=\"Separate\"></a>\n",
        "\n",
        "\n",
        "# <p style=\"background-color:#ffffff;font-family:Gabriola;color:#000080;font-size:100%;text-align:left;border-radius:10px ; padding:10px;\">  📈 Temperature plot  </p>"
      ]
    },
    {
      "cell_type": "code",
      "execution_count": null,
      "metadata": {
        "id": "15CsHhWBMEJb"
      },
      "outputs": [],
      "source": [
        "plt.title('Temperature chart by Output and internal sensors')\n",
        "plt.scatter(df3['out/in'],df3['temp'])\n",
        "plt.xlabel('Output and internal sensors')\n",
        "plt.ylabel('Temperature')\n",
        "plt.savefig('Temperature chart by Output and internal sensors.png')\n",
        "plt.show()"
      ]
    },
    {
      "cell_type": "code",
      "execution_count": null,
      "metadata": {
        "id": "IZQcTweAMEJb"
      },
      "outputs": [],
      "source": [
        "date = df['noted_date'][0]\n",
        "split_date = date.split('-')\n",
        "number = split_date[0]"
      ]
    },
    {
      "cell_type": "code",
      "execution_count": null,
      "metadata": {
        "id": "3UsD0w7IMEJp"
      },
      "outputs": [],
      "source": [
        "m=[]\n",
        "for i in df['noted_date']:\n",
        "    split_date = i.split('-')\n",
        "    number = int(split_date[1])\n",
        "    m.append(number)\n",
        ""
      ]
    },
    {
      "cell_type": "code",
      "execution_count": null,
      "metadata": {
        "id": "M8XObT_NMEJp"
      },
      "outputs": [],
      "source": [
        "df3['Month']=m"
      ]
    },
    {
      "cell_type": "code",
      "execution_count": null,
      "metadata": {
        "id": "dPAmIztwMEJp"
      },
      "outputs": [],
      "source": [
        "df3"
      ]
    },
    {
      "cell_type": "markdown",
      "metadata": {
        "id": "blUUVwwoMEJp"
      },
      "source": [
        "<a class=\"anchor\" id=\"Separate\"></a>\n",
        "\n",
        "\n",
        "# <p style=\"background-color:#ffffff;font-family:Gabriola;color:#000080;font-size:100%;text-align:left;border-radius:10px ; padding:10px;\">  📈 Temperature plot  </p>"
      ]
    },
    {
      "cell_type": "code",
      "execution_count": null,
      "metadata": {
        "id": "fMnp9DN9MEJq"
      },
      "outputs": [],
      "source": [
        "plt.title('Temperature chart by number months')\n",
        "plt.scatter(df3['Month'],df3['temp'])\n",
        "plt.xlabel('Number Months')\n",
        "plt.ylabel('Temperature')\n",
        "# plt.savefig('Temperature chart by months comlete in.png')\n",
        "plt.show()"
      ]
    },
    {
      "cell_type": "markdown",
      "metadata": {
        "id": "DD77YVgZMEJq"
      },
      "source": [
        "<a class=\"anchor\" id=\"Separate\"></a>\n",
        "\n",
        "\n",
        "# <p style=\"background-color:#ffffff;font-family:Gabriola;color:#000080;font-size:100%;text-align:left;border-radius:10px ; padding:10px;\">  📈 Temperature plot  </p>"
      ]
    },
    {
      "cell_type": "code",
      "execution_count": null,
      "metadata": {
        "id": "ycrTC8qUMEJq"
      },
      "outputs": [],
      "source": [
        "month = [\n",
        "    'January', 'February', 'March', 'April', 'May', 'June',\n",
        "    'July', 'August', 'September', 'October', 'November', 'December'\n",
        "]\n"
      ]
    },
    {
      "cell_type": "code",
      "execution_count": null,
      "metadata": {
        "id": "UfJj2MYeMEJq"
      },
      "outputs": [],
      "source": [
        "months=[]\n",
        "for i in m:\n",
        "    months.append(month[i-1])\n"
      ]
    },
    {
      "cell_type": "code",
      "execution_count": null,
      "metadata": {
        "id": "dGgru4TpMEJq"
      },
      "outputs": [],
      "source": [
        "df3['name_months']=months"
      ]
    },
    {
      "cell_type": "code",
      "execution_count": null,
      "metadata": {
        "id": "9s4JcgfLMEJq"
      },
      "outputs": [],
      "source": [
        "plt.title('Temperature chart by months')\n",
        "plt.scatter(df3['name_months'],df3['temp'])\n",
        "plt.xlabel('Months')\n",
        "plt.ylabel('Temperature')\n",
        "plt.savefig('Temperature chart by months comlete in.png')\n",
        "plt.show()"
      ]
    },
    {
      "cell_type": "code",
      "execution_count": null,
      "metadata": {
        "id": "fgOQ1ad8MEJq"
      },
      "outputs": [],
      "source": [
        "df3[df3['out/in']=='In']['temp'].value_counts().plot.pie(autopct='%1.1f%%')\n",
        "plt.title('Natural Demand Distribution by School')\n",
        "plt.show()"
      ]
    },
    {
      "cell_type": "code",
      "execution_count": null,
      "metadata": {
        "id": "eSxI3c7xMEJq"
      },
      "outputs": [],
      "source": [
        "df3[df3['out/in']=='Out']['temp'].value_counts().plot.pie(autopct='%1.1f%%')\n",
        "plt.title('Natural Demand Distribution by School')\n",
        "plt.show()"
      ]
    },
    {
      "cell_type": "markdown",
      "metadata": {
        "id": "sUGVtS6qMEJq"
      },
      "source": [
        "<a class=\"anchor\" id=\"Separate\"></a>\n",
        "\n",
        "\n",
        "# <p style=\"background-color:#ffffff;font-family:Gabriola;color:#000080;font-size:100%;text-align:left;border-radius:10px ; padding:10px;\">  📈 Temperature plot  </p>"
      ]
    },
    {
      "cell_type": "code",
      "execution_count": null,
      "metadata": {
        "id": "jboAicxCMEJq"
      },
      "outputs": [],
      "source": [
        "d=[]\n",
        "m=[]\n",
        "y=[]\n",
        "c=[]\n",
        "for i in df['noted_date']:\n",
        "    split_date = i.split('-')\n",
        "    day = int(split_date[0])\n",
        "    month = int(split_date[1])\n",
        "    year = split_date[2].split(' ')\n",
        "    clock=year[1]\n",
        "    f=int(year[0])\n",
        "    c.append(year[1])\n",
        "    d.append(day)\n",
        "    m.append(month)\n",
        "    y.append(f)"
      ]
    },
    {
      "cell_type": "code",
      "execution_count": null,
      "metadata": {
        "id": "P3QdCmQeMEJq"
      },
      "outputs": [],
      "source": [
        "date=[]\n",
        "for year, month, day in zip(y, m, d):\n",
        "    formatted_date = f'{day:02d}/{month:02d}/{year:04d}'\n",
        "    date.append(formatted_date)"
      ]
    },
    {
      "cell_type": "code",
      "execution_count": null,
      "metadata": {
        "id": "cmu2zC2WMEJq"
      },
      "outputs": [],
      "source": [
        "df8=pd.DataFrame(df3,columns=['date','Month','name_months','temp', 'out/in'])"
      ]
    },
    {
      "cell_type": "code",
      "execution_count": null,
      "metadata": {
        "id": "m_ZkyxPVMEJq"
      },
      "outputs": [],
      "source": [
        "out=[]\n",
        "inn=[]\n",
        "for i in df8['out/in']:\n",
        "    if i == 'Out':\n",
        "        out.append(1)\n",
        "    elif i == 'In':\n",
        "        out.append(0)\n",
        "for i in df8['out/in']:\n",
        "    if i == 'In':\n",
        "        inn.append(1)\n",
        "    elif i == 'Out':\n",
        "        inn.append(0)"
      ]
    },
    {
      "cell_type": "code",
      "execution_count": null,
      "metadata": {
        "id": "sxZvJ0unMEJq"
      },
      "outputs": [],
      "source": [
        "df8['out']=out\n",
        "df8['in']=inn"
      ]
    },
    {
      "cell_type": "code",
      "execution_count": null,
      "metadata": {
        "id": "PqcvWW-MMEJq"
      },
      "outputs": [],
      "source": [
        "df10=pd.DataFrame(df3,columns=['date','Month','name_months','temp', 'out/in','clock'])"
      ]
    },
    {
      "cell_type": "code",
      "execution_count": null,
      "metadata": {
        "id": "pl3aoKbSMEJr"
      },
      "outputs": [],
      "source": [
        "df10['row_number'] = df10.reset_index().index + 1"
      ]
    },
    {
      "cell_type": "code",
      "execution_count": null,
      "metadata": {
        "id": "VEZBpu15MEJr"
      },
      "outputs": [],
      "source": [
        "df10['in']=inn\n",
        "df10['out']=out"
      ]
    },
    {
      "cell_type": "code",
      "execution_count": null,
      "metadata": {
        "id": "qfafni-LMEJr"
      },
      "outputs": [],
      "source": [
        "df8['date']=date\n",
        "df8['clock']=c"
      ]
    },
    {
      "cell_type": "code",
      "execution_count": null,
      "metadata": {
        "id": "Y_dCvrdYMEJr"
      },
      "outputs": [],
      "source": [
        "df10['date']=date\n",
        "df10['clock']=c"
      ]
    },
    {
      "cell_type": "code",
      "execution_count": null,
      "metadata": {
        "id": "J9OxlqVtMEJr"
      },
      "outputs": [],
      "source": [
        "df3['date']=date\n",
        "df3['clock']=c"
      ]
    },
    {
      "cell_type": "code",
      "execution_count": null,
      "metadata": {
        "id": "EgoHnVRzMEJr"
      },
      "outputs": [],
      "source": [
        "df10['month_code'] = pd.Categorical(df10['name_months'], ordered=True).codes\n",
        "\n",
        "out_data = df10[df10['out/in'] == 'In']\n",
        "coefficients = np.polyfit(out_data['month_code'], out_data['temp'], 1)\n",
        "poly_line = np.poly1d(coefficients)\n",
        "\n",
        "fig = px.scatter(out_data, x='name_months', y='temp', title='Scatter plot by Months')\n",
        "fig.update_xaxes(title_text='Months', autorange='reversed')\n",
        "fig.update_yaxes(title_text='Temperature')\n",
        "\n",
        "\n",
        "fig.add_scatter(x=out_data['name_months'], y=poly_line(out_data['month_code']), mode='lines', name='Trendline')\n",
        "\n",
        "fig.show()"
      ]
    },
    {
      "cell_type": "code",
      "execution_count": null,
      "metadata": {
        "id": "9-hf5rPSMEJr"
      },
      "outputs": [],
      "source": [
        "\n",
        "df10['month_code'] = pd.Categorical(df10['name_months'], ordered=True).codes\n",
        "\n",
        "out_data = df10[df10['out/in'] == 'Out']\n",
        "coefficients = np.polyfit(out_data['month_code'], out_data['temp'], 1)\n",
        "poly_line = np.poly1d(coefficients)\n",
        "\n",
        "fig = px.scatter(out_data, x='name_months', y='temp', title='Scatter plot by Months')\n",
        "fig.update_xaxes(title_text='Months', autorange='reversed')\n",
        "fig.update_yaxes(title_text='Temperature')\n",
        "\n",
        "\n",
        "fig.add_scatter(x=out_data['name_months'], y=poly_line(out_data['month_code']), mode='lines', name='Trendline')\n",
        "\n",
        "fig.show()"
      ]
    },
    {
      "cell_type": "markdown",
      "metadata": {
        "id": "cKGpEC3mMEJr"
      },
      "source": [
        "<p style = \"font-size:150%; color:#226666\">💡 Result </p>\n",
        "<p style = \"font-size:100%; color:#226666\">✔️\n",
        "    The temperature in the measured output sensor has measured mostly high temperatures and the input sensor has mostly measured low temperatures</p>"
      ]
    },
    {
      "cell_type": "markdown",
      "metadata": {
        "id": "Y6TTCi-UMEJr"
      },
      "source": [
        "<a class=\"anchor\" id=\"Separate\"></a>\n",
        "\n",
        "\n",
        "# <p style=\"background-color:#ffffff;font-family:Gabriola;color:#000080;font-size:100%;text-align:left;border-radius:10px ; padding:10px;\">  📈 Temperature plot  </p>"
      ]
    },
    {
      "cell_type": "code",
      "execution_count": null,
      "metadata": {
        "id": "LjwfJfsCMEJr"
      },
      "outputs": [],
      "source": [
        "sns.set_theme(style=\"ticks\")\n",
        "plt.suptitle('year : 2006')\n",
        "sns.pairplot(df8, hue='out/in')"
      ]
    },
    {
      "cell_type": "markdown",
      "metadata": {
        "id": "dTaKLpOWMEJr"
      },
      "source": [
        "<p style = \"font-size:150%; color:#226666\">💡 Result </p>\n",
        "   \n",
        "  - <p style = \"color:#226666\">In the histogram of the month column, we can see that the temperature has been measured in a series of specific months</p>\n",
        "  - <p style = \"color:#226666\"> In the histogram of the temperature column, it shows more skew to the left (negative) in the output sensor, that is, high temperatures are more than low temperatures, high temperatures have been sensed more than low temperatures, and the internal sensor has sensed low temperatures because is skewed to the right (positive).</p>\n",
        "  - <p style = \"color:#226666\">Low temperatures are measured with the input sensor and high temperatures are measured with the output sensor.</p>"
      ]
    },
    {
      "cell_type": "markdown",
      "metadata": {
        "id": "xnSg7boEMEJr"
      },
      "source": [
        "<a class=\"anchor\" id=\"Separate\"></a>\n",
        "\n",
        "\n",
        "# <p style=\"background-color:#ffffff;font-family:Gabriola;color:#000080;font-size:100%;text-align:left;border-radius:10px ; padding:10px;\">  📈 Heatmap plot  </p>"
      ]
    },
    {
      "cell_type": "code",
      "execution_count": null,
      "metadata": {
        "id": "MAoa2dqgMEJr"
      },
      "outputs": [],
      "source": [
        "# Calculate the correlation matrix, excluding the 'out/in' column\n",
        "correlation_matrix = df8.drop(['date', 'clock', 'name_months', 'out/in'], axis=1).corr()\n",
        "\n",
        "sns.heatmap(correlation_matrix, annot=True, cmap='coolwarm', fmt='.2f')\n",
        "\n",
        "plt.title('Heatmap of Correlation for Numeric Columns')\n",
        "plt.show()"
      ]
    },
    {
      "cell_type": "markdown",
      "metadata": {
        "id": "CfhOBLrlMEJr"
      },
      "source": [
        "<p style = \"font-size:150%; color:#226666\">💡 Result </p>\n",
        "   \n",
        "  - <p style = \"color:#226666\">The input sensor is not correlated with the moon and temperature column</p>\n",
        "  - <p style = \"color:#226666\"> The output sensor has a one-to-one correlation with the moon column</p>\n",
        "  - <p style = \"color:#226666\">Input and output sensors are not correlated</p>\n",
        "  - <p style = \"color:#226666\">The output sensor or temperature column is connected</p>"
      ]
    },
    {
      "cell_type": "markdown",
      "metadata": {
        "id": "yEKGIus6MEJr"
      },
      "source": [
        "<a class=\"anchor\" id=\"Separate\"></a>\n",
        "\n",
        "\n",
        "# <p style=\"background-color:#ffffff;font-family:Gabriola;color:#000080;font-size:100%;text-align:left;border-radius:10px ; padding:10px;\">  📈 Sensor out and in plot  </p>"
      ]
    },
    {
      "cell_type": "code",
      "execution_count": null,
      "metadata": {
        "id": "W1NI6QiEMEJs"
      },
      "outputs": [],
      "source": [
        "sns.lineplot(data=df10, x='clock', y='out')\n",
        "plt.xticks(rotation=90)\n",
        "plt.show()"
      ]
    },
    {
      "cell_type": "code",
      "execution_count": null,
      "metadata": {
        "id": "lKtmN5bgMEJs"
      },
      "outputs": [],
      "source": [
        "sns.lineplot(data=df10, x='clock', y='in')\n",
        "\n",
        "plt.xticks(rotation=0)\n",
        "plt.show()"
      ]
    },
    {
      "cell_type": "markdown",
      "metadata": {
        "id": "3BIDHx7BMEJs"
      },
      "source": [
        "<p style = \"font-size:150%; color:#226666\">💡 Result </p>\n",
        "<p style = \"font-size:100%; color:#226666\">✔️\n",
        "    From 20:43, 19:11, 5:42, 15:59, 21:50, 10:36, 17:09, 21:05, 5:45, 12:40, and 1:02, a lot of data is output from the sensor. And less data is recorded in the input sensor</p>"
      ]
    },
    {
      "cell_type": "markdown",
      "metadata": {
        "id": "ToJk53tuMEJs"
      },
      "source": [
        "<a class=\"anchor\" id=\"Separate\"></a>\n",
        "\n",
        "\n",
        "# <p style=\"background-color:#ffffff;font-family:Gabriola;color:#000080;font-size:100%;text-align:left;border-radius:10px ; padding:10px;\">  📈 Temperature plot  </p>"
      ]
    },
    {
      "cell_type": "code",
      "execution_count": null,
      "metadata": {
        "id": "QCc0UWwBMEJs"
      },
      "outputs": [],
      "source": [
        "fig = px.scatter(df10,x='out/in',y='clock')\n",
        "fig.show()"
      ]
    },
    {
      "cell_type": "markdown",
      "metadata": {
        "id": "IouaVAc5MEJs"
      },
      "source": [
        "<a class=\"anchor\" id=\"Separate\"></a>\n",
        "\n",
        "\n",
        "# <p style=\"background-color:#ffffff;font-family:Gabriola;color:#000080;font-size:100%;text-align:left;border-radius:10px ; padding:10px;\">  📈 Temperature plot  </p>"
      ]
    },
    {
      "cell_type": "code",
      "execution_count": null,
      "metadata": {
        "id": "8Mg1OHBeMEJs"
      },
      "outputs": [],
      "source": [
        "fig = px.scatter(df10, x='clock', y='temp', title='Time Series - Temperature over Time')\n",
        "fig.update_xaxes(title_text='Clock')\n",
        "fig.update_yaxes(title_text='Temperature')\n",
        "fig.show()"
      ]
    },
    {
      "cell_type": "markdown",
      "metadata": {
        "id": "THdu3hoEMEJs"
      },
      "source": [
        "<p style = \"font-size:150%; color:#226666\">💡 Result </p>\n",
        "<p style = \"font-size:100%; color:#226666\">✔️\n",
        "    No data was recorded between the temperature between 35 and 40 and 20 to 25 degrees, and it is clear that the sensors were disconnected.</p>"
      ]
    },
    {
      "cell_type": "markdown",
      "metadata": {
        "id": "CawkFkhoMEJs"
      },
      "source": [
        "<a class=\"anchor\" id=\"Separate\"></a>\n",
        "\n",
        "\n",
        "# <p style=\"background-color:#ffffff;font-family:Gabriola;color:#000080;font-size:100%;text-align:left;border-radius:10px ; padding:10px;\">  📈 Temperature plot  </p>"
      ]
    },
    {
      "cell_type": "code",
      "execution_count": null,
      "metadata": {
        "id": "Dlyv_KdKMEJs"
      },
      "outputs": [],
      "source": [
        "fig=px.scatter(x=df5['noted_date'],y=df5['temp'])\n",
        "fig.update_xaxes(title_text='Clock')\n",
        "fig.update_yaxes(title_text='Temperature')\n",
        "fig.show()"
      ]
    },
    {
      "cell_type": "markdown",
      "metadata": {
        "id": "fFREQWA7MEJs"
      },
      "source": [
        "<a class=\"anchor\" id=\"Separate\"></a>\n",
        "\n",
        "\n",
        "# <p style=\"background-color:#ffffff;font-family:Gabriola;color:#000080;font-size:100%;text-align:left;border-radius:10px ; padding:10px;\">  📈 Temperature plot  </p>"
      ]
    },
    {
      "cell_type": "code",
      "execution_count": null,
      "metadata": {
        "id": "KNr_MS4fMEJs"
      },
      "outputs": [],
      "source": [
        "fig = px.scatter(df5, x='noted_date', y='temp', title='Scatter plot with Trendline')\n",
        "fig.update_xaxes(title_text='Clock')\n",
        "fig.update_yaxes(title_text='Temperature')\n",
        "\n",
        "\n",
        "fig.add_trace(px.line(df5, x='noted_date', y='temp').data[0])\n",
        "\n",
        "fig.show()"
      ]
    },
    {
      "cell_type": "markdown",
      "metadata": {
        "id": "V4NNt3BBMEJs"
      },
      "source": [
        "<a class=\"anchor\" id=\"Separate\"></a>\n",
        "\n",
        "\n",
        "# <p style=\"background-color:#ffffff;font-family:Gabriola;color:#000080;font-size:100%;text-align:left;border-radius:10px ; padding:10px;\">  📈 Temperature plot  </p>"
      ]
    },
    {
      "cell_type": "code",
      "execution_count": null,
      "metadata": {
        "id": "F5uz4ARtMEJs"
      },
      "outputs": [],
      "source": [
        "\n",
        "fig = px.scatter(df10, x='Month', y='temp',trendline=\"ols\")\n",
        "\n",
        "fig.show()"
      ]
    },
    {
      "cell_type": "markdown",
      "metadata": {
        "id": "SWax30NOMEJs"
      },
      "source": [
        "<a class=\"anchor\" id=\"Separate\"></a>\n",
        "\n",
        "\n",
        "# <p style=\"background-color:#ffffff;font-family:Gabriola;color:#000080;font-size:100%;text-align:left;border-radius:10px ; padding:10px;\">  📈 Temperature plot  </p>"
      ]
    },
    {
      "cell_type": "code",
      "execution_count": null,
      "metadata": {
        "id": "r83ci5jVMEJt"
      },
      "outputs": [],
      "source": [
        "df5['date'] = pd.to_datetime(df5['date'])\n",
        "\n",
        "fig = px.scatter(df5, x=\"date\", y=\"temp\", trendline=\"ols\")\n",
        "fig.show()"
      ]
    },
    {
      "cell_type": "markdown",
      "metadata": {
        "id": "P2oMtYo-MEJt"
      },
      "source": [
        "<p style = \"font-size:150%; color:#226666\">💡 Result </p>\n",
        "<p style = \"font-size:100%; color:#226666\">✔️\n",
        "    From 20:43, 19:11, 5:42, 15:59, 21:50, 10:36, 17:09, 21:05, 5:45, 12:40, and 1:02, a lot of data is output from the sensor. And less data is recorded in the input sensor</p>"
      ]
    },
    {
      "cell_type": "markdown",
      "metadata": {
        "id": "ZUXO8EbhMEJt"
      },
      "source": [
        "<a class=\"anchor\" id=\"Separate\"></a>\n",
        "\n",
        "\n",
        "# <p style=\"background-color:#ffffff;font-family:Gabriola;color:#000080;font-size:100%;text-align:left;border-radius:10px ; padding:10px;\">  📈 Temperature plot  </p>"
      ]
    },
    {
      "cell_type": "code",
      "execution_count": null,
      "metadata": {
        "id": "PjPHzllyMEJt"
      },
      "outputs": [],
      "source": [
        "df10['month_code'] = pd.Categorical(df10['name_months'], ordered=True).codes\n",
        "\n",
        "coefficients = np.polyfit(df10['month_code'], df10['temp'], 1)\n",
        "poly_line = np.poly1d(coefficients)\n",
        "\n",
        "fig = px.scatter(df10, x='name_months', y='temp', title='Scatter plot by Months')\n",
        "fig.update_xaxes(title_text='Months', autorange='reversed')\n",
        "fig.update_yaxes(title_text='Temperature')\n",
        "\n",
        "fig.add_scatter(x=df10['name_months'], y=poly_line(df10['month_code']), mode='lines', name='Trendline')\n",
        "\n",
        "fig.show()"
      ]
    },
    {
      "cell_type": "markdown",
      "metadata": {
        "id": "x4uwahH6MEJt"
      },
      "source": [
        "\n",
        "<p style = \"font-size:150%; color:#226666\">💡 Result </p>\n",
        "<p style = \"font-size:100%; color:#226666\">✔️\n",
        "    The overall conclusion from the above plots shows that the temperature is increasing in India</p>"
      ]
    },
    {
      "cell_type": "markdown",
      "metadata": {
        "id": "xF3sjkbdMEJt"
      },
      "source": [
        "<a class=\"anchor\" id=\"Separate\"></a>\n",
        "\n",
        "\n",
        "# <p style=\"background-color:#ffffff;font-family:Gabriola;color:#000080;font-size:100%;text-align:left;border-radius:10px ; padding:10px;\">  📈 Heatmap plot  </p>"
      ]
    },
    {
      "cell_type": "code",
      "execution_count": null,
      "metadata": {
        "id": "XJHVPko9MEJt"
      },
      "outputs": [],
      "source": [
        "import calendar"
      ]
    },
    {
      "cell_type": "code",
      "execution_count": null,
      "metadata": {
        "id": "Jt3zfEZRMEJt"
      },
      "outputs": [],
      "source": [
        "pivot_table = df10.pivot_table(values='temp', index='Month', columns='date')\n",
        "\n",
        "month_names = [calendar.month_name[i] for i in range(1, 13)]"
      ]
    },
    {
      "cell_type": "code",
      "execution_count": null,
      "metadata": {
        "id": "iuNomyCRMEJt"
      },
      "outputs": [],
      "source": [
        "plt.figure(figsize=(20, 15))\n",
        "heatmap=sns.heatmap(pivot_table, annot=True)\n",
        "plt.yticks(range(1, 13), month_names)\n",
        "heatmap.set_yticklabels(month_names, rotation=0)\n",
        "plt.yticks(range(1, 13), month_names)\n",
        "plt.xlabel('Month')\n",
        "plt.ylabel('Year')\n",
        "plt.title('Heatmap of Temperature based on Year and Month')\n",
        "plt.show()"
      ]
    },
    {
      "cell_type": "markdown",
      "metadata": {
        "id": "Fc2ESHqIMEJt"
      },
      "source": [
        "\n",
        "<p style = \"font-size:150%; color:#226666\">💡 Result </p>\n",
        "<p style = \"font-size:100%; color:#226666\">✔️\n",
        "    In the months of March and April, the weather is hotter, and in January and February, the air temperature is lower</p>"
      ]
    },
    {
      "cell_type": "markdown",
      "metadata": {
        "id": "m-giM2P9MEJt"
      },
      "source": [
        "<a class=\"anchor\" id=\"Separate\"></a>\n",
        "\n",
        "\n",
        "# <p style=\"background-color:#ffffff;font-family:Gabriola;color:#000080;font-size:100%;text-align:left;border-radius:10px ; padding:10px;\"> 💻 Creating Model With use Random Forest Regressor </p>"
      ]
    },
    {
      "cell_type": "code",
      "execution_count": null,
      "metadata": {
        "id": "ar78aiLaMEJt"
      },
      "outputs": [],
      "source": [
        "import datetime\n",
        "from sklearn.ensemble import RandomForestRegressor\n",
        "from sklearn.model_selection import train_test_split\n",
        "from sklearn.metrics import mean_squared_error, r2_score"
      ]
    },
    {
      "cell_type": "code",
      "execution_count": null,
      "metadata": {
        "id": "MpzpQp1zMEJt"
      },
      "outputs": [],
      "source": [
        "from sklearn.linear_model import LinearRegression\n",
        "from sklearn.metrics import mean_squared_error"
      ]
    },
    {
      "cell_type": "code",
      "execution_count": null,
      "metadata": {
        "id": "kqo7L_qYMEJt"
      },
      "outputs": [],
      "source": [
        "from sklearn.preprocessing import LabelEncoder"
      ]
    },
    {
      "cell_type": "code",
      "execution_count": null,
      "metadata": {
        "id": "gTP69gLKMEJt"
      },
      "outputs": [],
      "source": [
        "label_encoder = LabelEncoder()\n",
        "\n",
        "df10['out/in'] = label_encoder.fit_transform(df10['out/in'])"
      ]
    },
    {
      "cell_type": "code",
      "execution_count": null,
      "metadata": {
        "id": "5SzY4hU5MEJt"
      },
      "outputs": [],
      "source": [
        "df10['date'] = pd.to_datetime(df10['date'], format='%d/%m/%Y')\n",
        "\n",
        "df10['month'] = df10['date'].dt.month\n",
        "df10['day'] = df10['date'].dt.day\n",
        "df10['year'] = df10['date'].dt.year"
      ]
    },
    {
      "cell_type": "code",
      "execution_count": null,
      "metadata": {
        "id": "PancuU9iMEJu"
      },
      "outputs": [],
      "source": [
        "df10"
      ]
    },
    {
      "cell_type": "code",
      "execution_count": null,
      "metadata": {
        "id": "3lcrzr4XMEJu"
      },
      "outputs": [],
      "source": [
        "def hours(time):\n",
        "    hours, minute = map(int, time.split(':'))\n",
        "    return hours, minute\n",
        "\n",
        "df10[['hours', 'minutes']] = df10['clock'].apply(hours).apply(pd.Series)"
      ]
    },
    {
      "cell_type": "code",
      "execution_count": null,
      "metadata": {
        "id": "CozLqhorMEJu"
      },
      "outputs": [],
      "source": [
        "real_data=df10"
      ]
    },
    {
      "cell_type": "code",
      "execution_count": null,
      "metadata": {
        "id": "69HuaCcZMEJu"
      },
      "outputs": [],
      "source": [
        "X = real_data[['month','day','year','hours','minutes','out/in']]\n",
        "y = real_data['temp']\n",
        "X_train, X_test, y_train, y_test = train_test_split(X, y, test_size=0.3, random_state=50)\n",
        "\n",
        "model = RandomForestRegressor(n_estimators=2,random_state=50)\n",
        "model.fit(X_train, y_train)\n",
        "\n",
        "\n",
        "predicted_temps = model.predict(X_test)\n",
        "\n",
        "\n",
        "mse = mean_squared_error(y_test, predicted_temps)\n",
        "r2 = r2_score(y_test, predicted_temps)\n",
        "print(\"Mean Squared Error:\", mse)\n",
        "print(\"R-squared Score:\", r2)\n",
        "\n",
        "\n",
        "future_dates = pd.date_range(start=real_data['date'].max() + datetime.timedelta(days=1), periods=30)\n",
        "future_month = [date.month for date in future_dates]\n",
        "future_day = [date.day for date in future_dates]\n",
        "future_year = [date.year for date in future_dates]\n",
        "future_hours = [date.hour for date in future_dates]\n",
        "future_minutes = [date.minute for date in future_dates]\n",
        "future_out_in = [0, 1] * (len(future_dates) // 2)\n",
        "\n",
        "\n",
        "future_X = pd.DataFrame({'month': future_month, 'day': future_day, 'year': future_year,\n",
        "                         'hours': future_hours, 'minutes': future_minutes, 'out/in': future_out_in})\n",
        "\n",
        "\n"
      ]
    },
    {
      "cell_type": "code",
      "execution_count": null,
      "metadata": {
        "id": "LBVN7BD9MEJu"
      },
      "outputs": [],
      "source": [
        "future_predicted_temps = model.predict(future_X)\n",
        "\n",
        "future_data = pd.DataFrame({'date': future_dates, 'temp': future_predicted_temps})\n",
        "df10_combined = pd.concat([real_data, future_data])\n",
        "\n",
        "plt.figure(figsize=(10, 6))\n",
        "plt.scatter(df10_combined['date'], df10_combined['temp'], color='b', label='Real')\n",
        "plt.scatter(future_data['date'], future_data['temp'], color='r', label='Predict')\n",
        "plt.plot(future_data['date'], future_data['temp'], color='g', label='Predicted Line')\n",
        "plt.title('Temperature forecast for the next 30 days')\n",
        "plt.xlabel('date')\n",
        "plt.ylabel('Temperature')\n",
        "plt.xticks(rotation=45)\n",
        "plt.tight_layout()\n",
        "plt.legend()\n",
        "plt.grid(True)\n",
        "plt.show()"
      ]
    },
    {
      "cell_type": "markdown",
      "metadata": {
        "id": "VDHAs3ylMEJu"
      },
      "source": [
        "\n",
        "<p style = \"font-size:150%; color:#226666\">💡 Result </p>\n",
        "<p style = \"font-size:100%; color:#226666\">✔️\n",
        "   Excellent! The performance metrics of your model show that it is a good model and fits the real data well. The mean square error (MSE) is 0.36\n",
        "   and the R-squared score is close to 0.99, which shows the good ability of the model in explaining and predicting temperature. These criteria show that it is a good model and its predictions can be trusted. Due to the approach of the autumn season, the temperature has decreased, but it should be taken into account that these sensors were deactivated in different months or days.</p>"
      ]
    },
    {
      "cell_type": "code",
      "execution_count": null,
      "metadata": {
        "id": "hD2tTGrrMEJu"
      },
      "outputs": [],
      "source": [
        "sns.histplot(predicted_temps, bins= 20, color=\"blue\", kde = True)\n",
        "\n",
        "plt.title('Predicts Temputure Histogram')\n",
        "plt.show()"
      ]
    },
    {
      "cell_type": "markdown",
      "metadata": {
        "id": "d194d0ce"
      },
      "source": [
        "\n",
        "---\n",
        "\n",
        "## ✅ Summary & Learnings\n",
        "\n",
        "- Explored and visualized temperature & humidity data\n",
        "- Applied time series techniques for forecasting\n",
        "- Demonstrated model prediction for future readings\n",
        "\n",
        "This notebook serves as a starting point for building real-time sensor monitoring and forecasting systems for IoT applications.\n"
      ]
    }
  ],
  "metadata": {
    "kaggle": {
      "accelerator": "none",
      "dataSources": [
        {
          "datasetId": 431831,
          "sourceId": 820334,
          "sourceType": "datasetVersion"
        }
      ],
      "dockerImageVersionId": 30626,
      "isGpuEnabled": false,
      "isInternetEnabled": false,
      "language": "python",
      "sourceType": "notebook"
    },
    "kernelspec": {
      "display_name": "Python 3 (ipykernel)",
      "language": "python",
      "name": "python3"
    },
    "language_info": {
      "codemirror_mode": {
        "name": "ipython",
        "version": 3
      },
      "file_extension": ".py",
      "mimetype": "text/x-python",
      "name": "python",
      "nbconvert_exporter": "python",
      "pygments_lexer": "ipython3",
      "version": "3.10.9"
    },
    "colab": {
      "provenance": []
    }
  },
  "nbformat": 4,
  "nbformat_minor": 0
}